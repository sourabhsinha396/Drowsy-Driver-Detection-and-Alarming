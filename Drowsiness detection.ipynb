{
 "cells": [
  {
   "cell_type": "markdown",
   "metadata": {},
   "source": [
    "## Step 1:\n"
   ]
  },
  {
   "cell_type": "markdown",
   "metadata": {},
   "source": [
    "Search How to install dlib on windows 10 and then install cmake and dlib then only the below code will work"
   ]
  },
  {
   "cell_type": "code",
   "execution_count": null,
   "metadata": {},
   "outputs": [],
   "source": []
  },
  {
   "cell_type": "code",
   "execution_count": 1,
   "metadata": {},
   "outputs": [
    {
     "ename": "ModuleNotFoundError",
     "evalue": "No module named 'dlib'",
     "output_type": "error",
     "traceback": [
      "\u001b[1;31m---------------------------------------------------------------------------\u001b[0m",
      "\u001b[1;31mModuleNotFoundError\u001b[0m                       Traceback (most recent call last)",
      "\u001b[1;32m<ipython-input-1-b218ed2b6661>\u001b[0m in \u001b[0;36m<module>\u001b[1;34m\u001b[0m\n\u001b[0;32m      1\u001b[0m \u001b[1;32mimport\u001b[0m \u001b[0mcv2\u001b[0m\u001b[1;33m\u001b[0m\u001b[1;33m\u001b[0m\u001b[0m\n\u001b[1;32m----> 2\u001b[1;33m \u001b[1;32mimport\u001b[0m \u001b[0mdlib\u001b[0m\u001b[1;33m\u001b[0m\u001b[1;33m\u001b[0m\u001b[0m\n\u001b[0m\u001b[0;32m      3\u001b[0m \u001b[1;32mimport\u001b[0m \u001b[0mnumpy\u001b[0m \u001b[1;32mas\u001b[0m \u001b[0mnp\u001b[0m\u001b[1;33m\u001b[0m\u001b[1;33m\u001b[0m\u001b[0m\n\u001b[0;32m      4\u001b[0m \u001b[1;32mfrom\u001b[0m \u001b[0mthreading\u001b[0m \u001b[1;32mimport\u001b[0m \u001b[0mThread\u001b[0m\u001b[1;33m\u001b[0m\u001b[1;33m\u001b[0m\u001b[0m\n\u001b[0;32m      5\u001b[0m \u001b[1;32mfrom\u001b[0m \u001b[0mplaysound\u001b[0m \u001b[1;32mimport\u001b[0m \u001b[0mplaysound\u001b[0m\u001b[1;33m\u001b[0m\u001b[1;33m\u001b[0m\u001b[0m\n",
      "\u001b[1;31mModuleNotFoundError\u001b[0m: No module named 'dlib'"
     ]
    }
   ],
   "source": [
    "import cv2\n",
    "import dlib\n",
    "import numpy as np\n",
    "from threading import Thread\n",
    "from playsound import playsound\n",
    "\n",
    "\n",
    "PREDICTOR_PATH = \"C:\\\\Users\\\\Sourabh\\\\Downloads\\\\shape_predictor_68_face_landmarks.dat\"\n",
    "predictor = dlib.shape_predictor(PREDICTOR_PATH)\n",
    "#cascade_path='haarcascade_frontalface_default.xml'\n",
    "#cascade = cv2.CascadeClassifier(cascade_path)\n",
    "detector = dlib.get_frontal_face_detector()\n",
    "\n",
    "\n",
    "def get_landmarks(im):\n",
    "    rects = detector(im, 1)\n",
    "\n",
    "    if len(rects) > 1:\n",
    "        return \"error\"\n",
    "    if len(rects) == 0:\n",
    "        return \"error\"\n",
    "    return np.matrix([[p.x, p.y] for p in predictor(im, rects[0]).parts()])\n",
    "\n",
    "\n",
    "def annotate_landmarks(im, landmarks):\n",
    "    im = im.copy()\n",
    "    for idx, point in enumerate(landmarks):\n",
    "        pos = (point[0, 0], point[0, 1])\n",
    "        cv2.putText(im, str(idx), pos,\n",
    "                    fontFace=cv2.FONT_HERSHEY_SCRIPT_SIMPLEX,\n",
    "                    fontScale=0.4,\n",
    "                    color=(0, 0, 255))\n",
    "        cv2.circle(im, pos, 3, color=(0, 255, 255))\n",
    "    return im\n",
    "\n",
    "def top_left(landmarks):\n",
    "    top_left_pts = []\n",
    "    for i in range(37,39):\n",
    "        top_left_pts.append(landmarks[i])\n",
    "    \n",
    "    top_left_mean = np.mean(top_left_pts, axis=0)\n",
    "    #print(top_left_mean[:,1])\n",
    "    return int(top_left_mean[:,1])\n",
    "\n",
    "def bottom_left(landmarks):\n",
    "    bottom_left_pts = []\n",
    "    for i in range(40,42):\n",
    "        bottom_left_pts.append(landmarks[i])\n",
    "    \n",
    "    bottom_left_mean = np.mean(bottom_left_pts, axis=0)\n",
    "    return int(bottom_left_mean[:,1])\n",
    "\n",
    "def eye_open(image):\n",
    "    landmarks = get_landmarks(image)\n",
    "    \n",
    "    if landmarks == \"error\":\n",
    "        return image, 0\n",
    "    \n",
    "    image_with_landmarks = annotate_landmarks(image, landmarks)\n",
    "    top_left_center = top_left(landmarks)\n",
    "    bottom_left_center = bottom_left(landmarks)\n",
    "    eye_distance = abs(top_left_center - bottom_left_center)\n",
    "    return image_with_landmarks, eye_distance\n",
    "\n",
    "    \n",
    "\n",
    "cap = cv2.VideoCapture(0)\n",
    "\n",
    "counter=0\n",
    "while True:\n",
    "    ret, frame = cap.read()   \n",
    "    image_landmarks, eye_distance = eye_open(frame)\n",
    "    \n",
    "    if eye_distance < 8:\n",
    "        counter=counter+1\n",
    "        if counter>=6:     #if counted frames> 6 frames it triggers putting of text\n",
    "            \n",
    "            cv2.putText(frame, \"Subject is Drowsing\", (50,450),\n",
    "                        cv2.FONT_HERSHEY_COMPLEX, 1,(0,0,255),2)\n",
    "            output_text = \" Drowsiness count: \" + str(counter + 1-6)\n",
    "\n",
    "            cv2.putText(frame, output_text, (50,50),\n",
    "                        cv2.FONT_HERSHEY_COMPLEX, 1,(0,255,127),2)\n",
    "            playsound('C://Users//Asus//Downloads//drowsiness-detection/drowsiness-detection/alarm.wav')\n",
    "            \n",
    "    else:\n",
    "        counter=0\n",
    "        \n",
    "   \n",
    "    cv2.imshow('Live Landmarks', image_landmarks )\n",
    "    cv2.imshow('Drowsiness Detection', frame )\n",
    "    \n",
    "    if cv2.waitKey(33) == ord('a'):\n",
    "        break\n",
    "        \n",
    "cap.release()\n",
    "cv2.destroyAllWindows() "
   ]
  },
  {
   "cell_type": "code",
   "execution_count": null,
   "metadata": {},
   "outputs": [],
   "source": []
  }
 ],
 "metadata": {
  "kernelspec": {
   "display_name": "Python 3",
   "language": "python",
   "name": "python3"
  },
  "language_info": {
   "codemirror_mode": {
    "name": "ipython",
    "version": 3
   },
   "file_extension": ".py",
   "mimetype": "text/x-python",
   "name": "python",
   "nbconvert_exporter": "python",
   "pygments_lexer": "ipython3",
   "version": "3.7.4"
  }
 },
 "nbformat": 4,
 "nbformat_minor": 2
}
